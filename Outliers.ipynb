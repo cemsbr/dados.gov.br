{
 "cells": [
  {
   "cell_type": "markdown",
   "metadata": {},
   "source": [
    "# Detecção de Outliers nas Cotas Parlamentares\n",
    "\n",
    "Primeiro, vamos investigar manualmente alguns gastos dos deputados em 2015. Em seguida, usaremos uma técnica simples de Aprendizado de Máquina (_Machine Learning_) para buscar transações incomuns por todos os dados.\n",
    "\n",
    "## O que é a Cota para Exercício da Atividade Parlamentar (CAEP)?\n",
    "\n",
    "É um valor mensal recebido, além do salário, para custear os gastos dos deputados na atividade parlamentar. Em 2016, esse valor varia entre R\\$ 30.788,66 para deputados do DF e R\\$ 44.632,46 para os do Acre. Ainda há um adicional de R\\$ 1.353,04 em alguns casos. Mais detalhes na [assessoria de imprensa da Câmara dos Deputados](http://www2.camara.leg.br/comunicacao/assessoria-de-imprensa/cota-parlamentar).\n",
    "\n",
    "## Conhecendo os dados\n",
    "\n",
    "Vamos carregar os dados de 2015 e olhar a primeira entrada. Os dados utilizados estão no formato CSV e foram convertidos do [original em XML](http://www2.camara.leg.br/transparencia/cota-para-exercicio-da-atividade-parlamentar/dados-abertos-cota-parlamentar). O significado de cada coluna pode ser conferido no [site de transparência da Câmara](http://www2.camara.leg.br/transparencia/cota-para-exercicio-da-atividade-parlamentar/explicacoes-sobre-o-formato-dos-arquivos-xml)."
   ]
  },
  {
   "cell_type": "code",
   "execution_count": 1,
   "metadata": {
    "collapsed": true
   },
   "outputs": [],
   "source": [
    "import pandas as pd\n",
    "ceap = pd.read_csv('dados/ceap2015.csv.zip')"
   ]
  },
  {
   "cell_type": "code",
   "execution_count": 2,
   "metadata": {
    "collapsed": false
   },
   "outputs": [
    {
     "name": "stdout",
     "output_type": "stream",
     "text": [
      "Temos 368802 entradas com 29 colunas cada.\n",
      "Primeira entrada:\n"
     ]
    },
    {
     "data": {
      "text/plain": [
       "codLegislatura                                                              55\n",
       "datEmissao                                                 2015-11-14T00:00:00\n",
       "ideCadastro                                                             178957\n",
       "ideDocumento                                                       5.88634e+06\n",
       "indTipoDocumento                                                             0\n",
       "nuCarteiraParlamentar                                                        1\n",
       "nuDeputadoId                                                              3074\n",
       "nuLegislatura                                                             2015\n",
       "numAno                                                                    2015\n",
       "numEspecificacaoSubCota                                                      0\n",
       "numLote                                                                1255355\n",
       "numMes                                                                      11\n",
       "numParcela                                                                   0\n",
       "numRessarcimento                                                          5294\n",
       "numSubCota                                                                   1\n",
       "sgPartido                                                                  DEM\n",
       "sgUF                                                                        RR\n",
       "txNomeParlamentar                                            ABEL MESQUITA JR.\n",
       "txtCNPJCPF                                                         5.93947e+12\n",
       "txtDescricao                 MANUTENÇÃO DE ESCRITÓRIO DE APOIO À ATIVIDADE ...\n",
       "txtDescricaoEspecificacao                                                  NaN\n",
       "txtFornecedor                          COMPANHIA DE AGUAS E ESGOTOS DE RORAIMA\n",
       "txtNumero                                                     0010100910378000\n",
       "txtPassageiro                                                              NaN\n",
       "txtTrecho                                                                  NaN\n",
       "vlrDocumento                                                            165.65\n",
       "vlrGlosa                                                                     0\n",
       "vlrLiquido                                                              165.65\n",
       "vlrRestituicao                                                             NaN\n",
       "Name: 0, dtype: object"
      ]
     },
     "execution_count": 2,
     "metadata": {},
     "output_type": "execute_result"
    }
   ],
   "source": [
    "linhas, colunas = ceap.shape\n",
    "print('Temos {} entradas com {} colunas cada.'.format(linhas, colunas))\n",
    "print('Primeira entrada:')\n",
    "ceap.iloc[0]"
   ]
  },
  {
   "cell_type": "markdown",
   "metadata": {},
   "source": [
    "## Análise manual"
   ]
  },
  {
   "cell_type": "markdown",
   "metadata": {},
   "source": [
    "Por curiosidade, vamos calcular quais foram os 3 parlamentares que mais gastaram em 2015:"
   ]
  },
  {
   "cell_type": "code",
   "execution_count": 3,
   "metadata": {
    "collapsed": false
   },
   "outputs": [
    {
     "data": {
      "text/html": [
       "<div>\n",
       "<table border=\"1\" class=\"dataframe\">\n",
       "  <thead>\n",
       "    <tr style=\"text-align: right;\">\n",
       "      <th></th>\n",
       "      <th>vlrLiquido</th>\n",
       "    </tr>\n",
       "    <tr>\n",
       "      <th>txNomeParlamentar</th>\n",
       "      <th></th>\n",
       "    </tr>\n",
       "  </thead>\n",
       "  <tbody>\n",
       "    <tr>\n",
       "      <th>JHONATAN DE JESUS</th>\n",
       "      <td>516027.24</td>\n",
       "    </tr>\n",
       "    <tr>\n",
       "      <th>MARCOS ROGÉRIO</th>\n",
       "      <td>509794.22</td>\n",
       "    </tr>\n",
       "    <tr>\n",
       "      <th>SHÉRIDAN</th>\n",
       "      <td>503166.82</td>\n",
       "    </tr>\n",
       "  </tbody>\n",
       "</table>\n",
       "</div>"
      ],
      "text/plain": [
       "                   vlrLiquido\n",
       "txNomeParlamentar            \n",
       "JHONATAN DE JESUS   516027.24\n",
       "MARCOS ROGÉRIO      509794.22\n",
       "SHÉRIDAN            503166.82"
      ]
     },
     "execution_count": 3,
     "metadata": {},
     "output_type": "execute_result"
    }
   ],
   "source": [
    "colunas = ['txNomeParlamentar', 'vlrLiquido']\n",
    "ceap[colunas].groupby('txNomeParlamentar').sum().sort_values('vlrLiquido', ascending=False).head(3)"
   ]
  },
  {
   "cell_type": "markdown",
   "metadata": {},
   "source": [
    "O deputado que mais usou a cota parlamentar totalizou R\\$ 516.027,24 em 2015, uma média de um pouco mais que R$ 43.000,00 mensais. Caso tenha lembrado dos valores, ele é sim do Acre, Boa Vista. Vamos verificar seu maior gasto:"
   ]
  },
  {
   "cell_type": "code",
   "execution_count": 4,
   "metadata": {
    "collapsed": false
   },
   "outputs": [
    {
     "data": {
      "text/plain": [
       "codLegislatura                                                 55\n",
       "datEmissao                                    2015-10-01T00:00:00\n",
       "ideCadastro                                                160531\n",
       "ideDocumento                                          5.81811e+06\n",
       "indTipoDocumento                                                0\n",
       "nuCarteiraParlamentar                                           5\n",
       "nuDeputadoId                                                 2333\n",
       "nuLegislatura                                                2015\n",
       "numAno                                                       2015\n",
       "numEspecificacaoSubCota                                         0\n",
       "numLote                                                   1234143\n",
       "numMes                                                         10\n",
       "numParcela                                                      0\n",
       "numRessarcimento                                             5195\n",
       "numSubCota                                                      5\n",
       "sgPartido                                                     PRB\n",
       "sgUF                                                           RR\n",
       "txNomeParlamentar                               JHONATAN DE JESUS\n",
       "txtCNPJCPF                                            1.85192e+13\n",
       "txtDescricao                 DIVULGAÇÃO DA ATIVIDADE PARLAMENTAR.\n",
       "txtDescricaoEspecificacao                                     NaN\n",
       "txtFornecedor                               F.V.C DOS SANTOS - ME\n",
       "txtNumero                                                00000602\n",
       "txtPassageiro                                                 NaN\n",
       "txtTrecho                                                     NaN\n",
       "vlrDocumento                                                88500\n",
       "vlrGlosa                                                        0\n",
       "vlrLiquido                                                  88500\n",
       "vlrRestituicao                                                NaN\n",
       "Name: 162451, dtype: object"
      ]
     },
     "execution_count": 4,
     "metadata": {},
     "output_type": "execute_result"
    }
   ],
   "source": [
    "nome = \"JHONATAN DE JESUS\"\n",
    "ceap[ceap.txNomeParlamentar == nome].sort_values('vlrLiquido', ascending=False).iloc[0]"
   ]
  },
  {
   "cell_type": "markdown",
   "metadata": {},
   "source": [
    "Será que um pagamento de R$ 88.500,00 para divulgação da atividade parlamentar é muito alto? Vamos ver os 5 maiores pagamentos desse tipo, entre todos os deputados, ordenado do maior pro menor:"
   ]
  },
  {
   "cell_type": "code",
   "execution_count": 5,
   "metadata": {
    "collapsed": false
   },
   "outputs": [
    {
     "data": {
      "text/html": [
       "<div>\n",
       "<table border=\"1\" class=\"dataframe\">\n",
       "  <thead>\n",
       "    <tr style=\"text-align: right;\">\n",
       "      <th></th>\n",
       "      <th>vlrLiquido</th>\n",
       "      <th>txNomeParlamentar</th>\n",
       "      <th>txtFornecedor</th>\n",
       "      <th>txtDescricao</th>\n",
       "    </tr>\n",
       "  </thead>\n",
       "  <tbody>\n",
       "    <tr>\n",
       "      <th>32058</th>\n",
       "      <td>189600.0</td>\n",
       "      <td>ARNALDO FARIA DE SÁ</td>\n",
       "      <td>GRÁFICA TRÊS PONTAS</td>\n",
       "      <td>DIVULGAÇÃO DA ATIVIDADE PARLAMENTAR.</td>\n",
       "    </tr>\n",
       "    <tr>\n",
       "      <th>31751</th>\n",
       "      <td>137900.0</td>\n",
       "      <td>ARLINDO CHINAGLIA</td>\n",
       "      <td>KARISMA IMPRESSOS E PAPELARIA LTDA - EPP</td>\n",
       "      <td>DIVULGAÇÃO DA ATIVIDADE PARLAMENTAR.</td>\n",
       "    </tr>\n",
       "    <tr>\n",
       "      <th>125107</th>\n",
       "      <td>100000.0</td>\n",
       "      <td>FÉLIX MENDONÇA JÚNIOR</td>\n",
       "      <td>CONTRASTE EDITORA E INDUSTRIA GRAFICA</td>\n",
       "      <td>DIVULGAÇÃO DA ATIVIDADE PARLAMENTAR.</td>\n",
       "    </tr>\n",
       "    <tr>\n",
       "      <th>62020</th>\n",
       "      <td>100000.0</td>\n",
       "      <td>CARLOS MANATO</td>\n",
       "      <td>V C F DA SILVA GRAFICA EPP</td>\n",
       "      <td>DIVULGAÇÃO DA ATIVIDADE PARLAMENTAR.</td>\n",
       "    </tr>\n",
       "    <tr>\n",
       "      <th>106736</th>\n",
       "      <td>99900.0</td>\n",
       "      <td>ELCIONE BARBALHO</td>\n",
       "      <td>STILO GRAFICA E EDITORA LTDA</td>\n",
       "      <td>DIVULGAÇÃO DA ATIVIDADE PARLAMENTAR.</td>\n",
       "    </tr>\n",
       "  </tbody>\n",
       "</table>\n",
       "</div>"
      ],
      "text/plain": [
       "        vlrLiquido      txNomeParlamentar  \\\n",
       "32058     189600.0    ARNALDO FARIA DE SÁ   \n",
       "31751     137900.0      ARLINDO CHINAGLIA   \n",
       "125107    100000.0  FÉLIX MENDONÇA JÚNIOR   \n",
       "62020     100000.0          CARLOS MANATO   \n",
       "106736     99900.0       ELCIONE BARBALHO   \n",
       "\n",
       "                                   txtFornecedor  \\\n",
       "32058                        GRÁFICA TRÊS PONTAS   \n",
       "31751   KARISMA IMPRESSOS E PAPELARIA LTDA - EPP   \n",
       "125107     CONTRASTE EDITORA E INDUSTRIA GRAFICA   \n",
       "62020                 V C F DA SILVA GRAFICA EPP   \n",
       "106736              STILO GRAFICA E EDITORA LTDA   \n",
       "\n",
       "                                txtDescricao  \n",
       "32058   DIVULGAÇÃO DA ATIVIDADE PARLAMENTAR.  \n",
       "31751   DIVULGAÇÃO DA ATIVIDADE PARLAMENTAR.  \n",
       "125107  DIVULGAÇÃO DA ATIVIDADE PARLAMENTAR.  \n",
       "62020   DIVULGAÇÃO DA ATIVIDADE PARLAMENTAR.  \n",
       "106736  DIVULGAÇÃO DA ATIVIDADE PARLAMENTAR.  "
      ]
     },
     "execution_count": 5,
     "metadata": {},
     "output_type": "execute_result"
    }
   ],
   "source": [
    "colunas = ['vlrLiquido', 'txNomeParlamentar', 'txtFornecedor', 'txtDescricao']\n",
    "ceap.query('numSubCota == 5')[colunas].sort_values('vlrLiquido', ascending=False).head()"
   ]
  },
  {
   "cell_type": "markdown",
   "metadata": {},
   "source": [
    "Descobrimos então que outros parlamentares gastaram ainda mais para divulgar suas atividades. Nesse momento, seu foco pode ter mudado dos R\\$ 88.500,00 de Jhonatan de Jesus para os R\\$ 189.600,00 de Arnaldo Faria de Sá. Comparando os gastos da tabela acima, o primeiro colocado se destoa a ponto de investigarmos melhor esse gasto? Note que começamos com uma ideia: o maior gasto do parlamentar que mais gastou no ano e, conforme investigamos, mudamos o rumo para o maior gasto com divulgação entre todos os deputados. Isso pode acontecer repetidas vezes até que de fato escolhamos um gasto para investigar mais a fundo.\n",
    "\n",
    "Como você já deve ter percebido, a análise manual é muito trabalhosa nas mais de 350 mil entradas que temos. Vejamos agora como processá-las de forma mais objetiva e automatizada."
   ]
  },
  {
   "cell_type": "markdown",
   "metadata": {},
   "source": [
    "## Aprendizagem de Máquina\n",
    "\n",
    "Vamos usar uma técnica simples de detecção de _outliers_ lecionada no [Coursera por Andrew Ng](https://www.coursera.org/learn/machine-learning). Essa técnica diz a probabilidade de um valor específico ocorrer no grupo. Para que ela funcione, os valores devem seguir aproximadamente uma distribuição normal. Não pretendo entrar em detalhes sobre estatística, apenas o suficiente para nos certificarmos de que teremos bons resultados.\n",
    "\n",
    "### Todos os valores\n",
    "\n",
    "Primeiro, vamos considerar todos os gastos de uma só vez. Será que os valores possuem uma distribuição normal? Veja um exemplo de distribuição normal (padrão):"
   ]
  },
  {
   "cell_type": "code",
   "execution_count": 6,
   "metadata": {
    "collapsed": true
   },
   "outputs": [],
   "source": [
    "import matplotlib   # gráficos\n",
    "import numpy as np  # cálculos\n",
    "\n",
    "%matplotlib inline\n",
    "matplotlib.style.use('ggplot')"
   ]
  },
  {
   "cell_type": "code",
   "execution_count": 7,
   "metadata": {
    "collapsed": false
   },
   "outputs": [
    {
     "data": {
      "image/png": "[encoded data removed]",
      "text/plain": [
       "<matplotlib.figure.Figure at 0x7f4831b5a6d8>"
      ]
     },
     "metadata": {},
     "output_type": "display_data"
    }
   ],
   "source": [
    "positivos = ceap[ceap.vlrLiquido > 0].vlrLiquido\n",
    "aleatorios = pd.Series(np.random.randn(len(positivos)), name='normal')\n",
    "aleatorios.plot.hist(bins=75, ylim=(0, 35000));"
   ]
  },
  {
   "cell_type": "markdown",
   "metadata": {},
   "source": [
    "Observe que os valores de x = 0 são mais frequentes e a frequência diminui para as laterais. Você pode conferir mais detalhes sobre a [Distribuição Normal na Wikipedia](https://pt.wikipedia.org/wiki/Distribui%C3%A7%C3%A3o_normal).\n",
    "\n",
    "Como é a distribuição dos valores da cota parlamentar?"
   ]
  },
  {
   "cell_type": "code",
   "execution_count": 8,
   "metadata": {
    "collapsed": false
   },
   "outputs": [
    {
     "data": {
      "image/png": "[encoded data removed]",
      "text/plain": [
       "<matplotlib.figure.Figure at 0x7f4833c3a668>"
      ]
     },
     "metadata": {},
     "output_type": "display_data"
    }
   ],
   "source": [
    "positivos.plot.hist(bins=75);"
   ]
  },
  {
   "cell_type": "markdown",
   "metadata": {},
   "source": [
    "Bem diferente da distribuição normal padrão, não é? Embora invisíveis nessa escala, há alguns poucos gastos muito altos à direita. Além disso, notamos muitos gastos próximo do zero e uma diminuição brusca da barra ao lado.\n",
    "\n",
    "Para que os valores se aproximem da normal, vamos transformá-los aplicando logaritmo, subtraindo a média e dividindo pelo desvio padrão. Vamos ver o resultado e a curva normal sobrepostos:"
   ]
  },
  {
   "cell_type": "code",
   "execution_count": 9,
   "metadata": {
    "collapsed": false
   },
   "outputs": [],
   "source": [
    "def log_zscores(valores):\n",
    "    positivos = valores[valores > 0].dropna()\n",
    "    logs = np.log(positivos)\n",
    "    return (logs - logs.mean()) / logs.std()\n",
    "\n",
    "vlrLiquido_z = log_zscores(positivos)"
   ]
  },
  {
   "cell_type": "code",
   "execution_count": 11,
   "metadata": {
    "collapsed": false
   },
   "outputs": [
    {
     "data": {
      "image/png": "[encoded data removed]",
      "text/plain": [
       "<matplotlib.figure.Figure at 0x7f482f281208>"
      ]
     },
     "metadata": {},
     "output_type": "display_data"
    }
   ],
   "source": [
    "pd.concat([aleatorios, vlrLiquido_z], axis=1).plot.hist(bins=75, alpha=0.6);"
   ]
  },
  {
   "cell_type": "markdown",
   "metadata": {},
   "source": [
    "Agora os gastos estão muito mais próximos da distribuição normal padrão. Segundo Andrew Ng, a distribuição não precisa ser muito igual à normal para obter bons resultados. Podemos seguir para o próximo passo: calcular a probabilidade da ocorrência de cada valor. Talvez você já tenha ouvido falar em \"6 Sigma\" ($6\\sigma$) e esse nome vem do fato de que um intervalo entre $-3 \\sigma$ e $3\\sigma$ abrange quase 100% dos valores de uma distribuição normal. Na distribuição normal padrão, $\\sigma = 1$.\n",
    "\n",
    "Vamos então calcular a probabilidade de cada gasto, supondo que eles sigam uma distribuição normal e, em seguida, mostrar aqueles que possuem menor probabilidade de ocorrência (os 5 primeiros)."
   ]
  },
  {
   "cell_type": "code",
   "execution_count": 12,
   "metadata": {
    "collapsed": false
   },
   "outputs": [
    {
     "data": {
      "text/html": [
       "<div>\n",
       "<table border=\"1\" class=\"dataframe\">\n",
       "  <thead>\n",
       "    <tr style=\"text-align: right;\">\n",
       "      <th></th>\n",
       "      <th>prob_geral</th>\n",
       "      <th>vlrLiquido</th>\n",
       "      <th>txNomeParlamentar</th>\n",
       "      <th>txtDescricao</th>\n",
       "    </tr>\n",
       "  </thead>\n",
       "  <tbody>\n",
       "    <tr>\n",
       "      <th>32058</th>\n",
       "      <td>0.000014</td>\n",
       "      <td>189600.0</td>\n",
       "      <td>ARNALDO FARIA DE SÁ</td>\n",
       "      <td>DIVULGAÇÃO DA ATIVIDADE PARLAMENTAR.</td>\n",
       "    </tr>\n",
       "    <tr>\n",
       "      <th>31751</th>\n",
       "      <td>0.000031</td>\n",
       "      <td>137900.0</td>\n",
       "      <td>ARLINDO CHINAGLIA</td>\n",
       "      <td>DIVULGAÇÃO DA ATIVIDADE PARLAMENTAR.</td>\n",
       "    </tr>\n",
       "    <tr>\n",
       "      <th>62020</th>\n",
       "      <td>0.000067</td>\n",
       "      <td>100000.0</td>\n",
       "      <td>CARLOS MANATO</td>\n",
       "      <td>DIVULGAÇÃO DA ATIVIDADE PARLAMENTAR.</td>\n",
       "    </tr>\n",
       "    <tr>\n",
       "      <th>125107</th>\n",
       "      <td>0.000067</td>\n",
       "      <td>100000.0</td>\n",
       "      <td>FÉLIX MENDONÇA JÚNIOR</td>\n",
       "      <td>DIVULGAÇÃO DA ATIVIDADE PARLAMENTAR.</td>\n",
       "    </tr>\n",
       "    <tr>\n",
       "      <th>106736</th>\n",
       "      <td>0.000067</td>\n",
       "      <td>99900.0</td>\n",
       "      <td>ELCIONE BARBALHO</td>\n",
       "      <td>DIVULGAÇÃO DA ATIVIDADE PARLAMENTAR.</td>\n",
       "    </tr>\n",
       "  </tbody>\n",
       "</table>\n",
       "</div>"
      ],
      "text/plain": [
       "        prob_geral  vlrLiquido      txNomeParlamentar  \\\n",
       "32058     0.000014    189600.0    ARNALDO FARIA DE SÁ   \n",
       "31751     0.000031    137900.0      ARLINDO CHINAGLIA   \n",
       "62020     0.000067    100000.0          CARLOS MANATO   \n",
       "125107    0.000067    100000.0  FÉLIX MENDONÇA JÚNIOR   \n",
       "106736    0.000067     99900.0       ELCIONE BARBALHO   \n",
       "\n",
       "                                txtDescricao  \n",
       "32058   DIVULGAÇÃO DA ATIVIDADE PARLAMENTAR.  \n",
       "31751   DIVULGAÇÃO DA ATIVIDADE PARLAMENTAR.  \n",
       "62020   DIVULGAÇÃO DA ATIVIDADE PARLAMENTAR.  \n",
       "125107  DIVULGAÇÃO DA ATIVIDADE PARLAMENTAR.  \n",
       "106736  DIVULGAÇÃO DA ATIVIDADE PARLAMENTAR.  "
      ]
     },
     "execution_count": 12,
     "metadata": {},
     "output_type": "execute_result"
    }
   ],
   "source": [
    "from scipy.stats import norm\n",
    "\n",
    "def prob(valores):\n",
    "    probs = valores.copy()\n",
    "    probs[probs <= 0] = np.nan\n",
    "    z = log_zscores(probs)\n",
    "    probs[z.index] = norm.sf(z)\n",
    "    return probs\n",
    "\n",
    "ceap['prob_geral'] = prob(ceap.vlrLiquido)\n",
    "colunas = ['prob_geral', 'vlrLiquido', 'txNomeParlamentar', 'txtDescricao']\n",
    "ceap[colunas].sort_values('prob_geral').head()"
   ]
  },
  {
   "cell_type": "markdown",
   "metadata": {},
   "source": [
    "Os gastos com divulgação são os primeiros colocados. A tabela acima é a mesma que a última tabela da abordagem manual e sofre do mesmo problema: o catagoria com os maiores gastos é penalizada. Vamos corrigir isso a seguir.\n",
    "\n",
    "\n",
    "### Valores por tipo de gasto\n",
    "Vamos calcular as probabilidades da mesma maneira, mas considerando apenas os valores do mesmo grupo."
   ]
  },
  {
   "cell_type": "code",
   "execution_count": 13,
   "metadata": {
    "collapsed": false
   },
   "outputs": [
    {
     "data": {
      "text/html": [
       "<div>\n",
       "<table border=\"1\" class=\"dataframe\">\n",
       "  <thead>\n",
       "    <tr style=\"text-align: right;\">\n",
       "      <th></th>\n",
       "      <th>prob_grupo</th>\n",
       "      <th>vlrLiquido</th>\n",
       "      <th>txNomeParlamentar</th>\n",
       "      <th>txtDescricao</th>\n",
       "    </tr>\n",
       "  </thead>\n",
       "  <tbody>\n",
       "    <tr>\n",
       "      <th>203398</th>\n",
       "      <td>3.347746e-09</td>\n",
       "      <td>6205.00</td>\n",
       "      <td>LIDERANÇA DO PT</td>\n",
       "      <td>FORNECIMENTO DE ALIMENTAÇÃO DO PARLAMENTAR</td>\n",
       "    </tr>\n",
       "    <tr>\n",
       "      <th>203401</th>\n",
       "      <td>1.356416e-08</td>\n",
       "      <td>5054.99</td>\n",
       "      <td>LIDERANÇA DO PT</td>\n",
       "      <td>FORNECIMENTO DE ALIMENTAÇÃO DO PARLAMENTAR</td>\n",
       "    </tr>\n",
       "    <tr>\n",
       "      <th>334220</th>\n",
       "      <td>2.165794e-08</td>\n",
       "      <td>56223.80</td>\n",
       "      <td>SUBTENENTE GONZAGA</td>\n",
       "      <td>SERVIÇOS POSTAIS</td>\n",
       "    </tr>\n",
       "    <tr>\n",
       "      <th>245259</th>\n",
       "      <td>4.579753e-08</td>\n",
       "      <td>4200.00</td>\n",
       "      <td>MARLLOS SAMPAIO</td>\n",
       "      <td>FORNECIMENTO DE ALIMENTAÇÃO DO PARLAMENTAR</td>\n",
       "    </tr>\n",
       "    <tr>\n",
       "      <th>203402</th>\n",
       "      <td>4.732576e-08</td>\n",
       "      <td>4178.65</td>\n",
       "      <td>LIDERANÇA DO PT</td>\n",
       "      <td>FORNECIMENTO DE ALIMENTAÇÃO DO PARLAMENTAR</td>\n",
       "    </tr>\n",
       "  </tbody>\n",
       "</table>\n",
       "</div>"
      ],
      "text/plain": [
       "          prob_grupo  vlrLiquido   txNomeParlamentar  \\\n",
       "203398  3.347746e-09     6205.00     LIDERANÇA DO PT   \n",
       "203401  1.356416e-08     5054.99     LIDERANÇA DO PT   \n",
       "334220  2.165794e-08    56223.80  SUBTENENTE GONZAGA   \n",
       "245259  4.579753e-08     4200.00     MARLLOS SAMPAIO   \n",
       "203402  4.732576e-08     4178.65     LIDERANÇA DO PT   \n",
       "\n",
       "                                      txtDescricao  \n",
       "203398  FORNECIMENTO DE ALIMENTAÇÃO DO PARLAMENTAR  \n",
       "203401  FORNECIMENTO DE ALIMENTAÇÃO DO PARLAMENTAR  \n",
       "334220                            SERVIÇOS POSTAIS  \n",
       "245259  FORNECIMENTO DE ALIMENTAÇÃO DO PARLAMENTAR  \n",
       "203402  FORNECIMENTO DE ALIMENTAÇÃO DO PARLAMENTAR  "
      ]
     },
     "execution_count": 13,
     "metadata": {},
     "output_type": "execute_result"
    }
   ],
   "source": [
    "colunas = ['numSubCota', 'vlrLiquido']\n",
    "ceap['prob_grupo'] = ceap[colunas].groupby('numSubCota').transform(prob)\n",
    "\n",
    "colunas = ['prob_grupo', 'vlrLiquido', 'txNomeParlamentar', 'txtDescricao']\n",
    "ceap[colunas].sort_values('prob_grupo').head()"
   ]
  },
  {
   "cell_type": "markdown",
   "metadata": {},
   "source": [
    "Na tabela acima, temos os gastos que mais destoam dentro de suas categorias. Entre os 5 primeiros, 4 são para cobrir alimentação e são cerca de 10 vezes menor que o gasto com serviços postais. Para se ter uma ideia do quanto eles se destacam em suas categorias, vamos ver o valor com alimentação abaixo do qual se encontram 99,865% dos gastos ($3 \\sigma$ segundo a tabela que pode ser encontrada na [Wikipedia](https://en.wikipedia.org/wiki/Standard_normal_table)):"
   ]
  },
  {
   "cell_type": "code",
   "execution_count": 14,
   "metadata": {
    "collapsed": false
   },
   "outputs": [
    {
     "name": "stdout",
     "output_type": "stream",
     "text": [
      "Valor limite = R$ 564.93:\n",
      "33388 valores abaixo, em um total de 33491 = 99.692%.\n"
     ]
    }
   ],
   "source": [
    "alim = ceap.query('numSubCota == 13 and vlrLiquido > 0').vlrLiquido.dropna()\n",
    "alim_log = np.log(alim)\n",
    "média_log = alim_log.mean()\n",
    "sigma_log = alim_log.std()\n",
    "limite_log = média_log + 3 * sigma_log\n",
    "\n",
    "limite = np.exp(limite_log)\n",
    "print('Valor limite = R$ {:.2f}:'.format(limite))\n",
    "valores_abaixo = len(alim[alim < limite])\n",
    "valores_totais = len(alim)\n",
    "print('{} valores abaixo, em um total de {} = {:.3f}%.'.format(\n",
    "        valores_abaixo, valores_totais, 100 * valores_abaixo/valores_totais))"
   ]
  },
  {
   "cell_type": "markdown",
   "metadata": {},
   "source": [
    "A porcentagem está bem próxima da teórica. Mais de 99% dos gastos com alimentação está abaixo de R\\$ 564,93 e não é à toa que os gastos entre 4 e 6 mil estão entre os 5 primeiros da tabela acima. Marllos Sampaio, por exemplo, faz parte dos cerca de 0,3\\% que mais gastaram com alimentação.\n",
    "\n",
    "Por outro lado, pode ser mais interessante investigar o gasto com serviços postais, pois é cerca de 10 vezes maior que os gastos com alimentação. Como podemos destacar os gastos de maior valor aproveitando essa análise dentro de cada categoria? É o que vamos ver a seguir.\n",
    "\n",
    "### Unindo as duas probablilidades\n",
    "\n",
    "Primeiro, destacamos os maiores valores, mas acabamos priorizando categorias de gastos mais caras. Em seguida, destacamos os maiores valores dentro de cada categoria, mas obtivemos valores relativamente baixos. O ideal seria um balanço entre essas duas abordagens. Lembre-se do ensino médio (colegial, pros mais \"experientes\" :)) que a probabilidade de ocorrer $x$ e $y$ é igual a $P(x) \\times P(y)$.\n",
    "\n",
    "Vamos multiplicar as probabilidades, ordená-las e listas as primeiras:"
   ]
  },
  {
   "cell_type": "code",
   "execution_count": 15,
   "metadata": {
    "collapsed": false
   },
   "outputs": [
    {
     "data": {
      "text/html": [
       "<div>\n",
       "<table border=\"1\" class=\"dataframe\">\n",
       "  <thead>\n",
       "    <tr style=\"text-align: right;\">\n",
       "      <th></th>\n",
       "      <th>prob_total</th>\n",
       "      <th>vlrLiquido</th>\n",
       "      <th>txNomeParlamentar</th>\n",
       "      <th>txtDescricao</th>\n",
       "    </tr>\n",
       "  </thead>\n",
       "  <tbody>\n",
       "    <tr>\n",
       "      <th>334220</th>\n",
       "      <td>5.376728e-12</td>\n",
       "      <td>56223.80</td>\n",
       "      <td>SUBTENENTE GONZAGA</td>\n",
       "      <td>SERVIÇOS POSTAIS</td>\n",
       "    </tr>\n",
       "    <tr>\n",
       "      <th>203398</th>\n",
       "      <td>4.776580e-11</td>\n",
       "      <td>6205.00</td>\n",
       "      <td>LIDERANÇA DO PT</td>\n",
       "      <td>FORNECIMENTO DE ALIMENTAÇÃO DO PARLAMENTAR</td>\n",
       "    </tr>\n",
       "    <tr>\n",
       "      <th>261677</th>\n",
       "      <td>1.022311e-10</td>\n",
       "      <td>46988.80</td>\n",
       "      <td>NEWTON CARDOSO JR</td>\n",
       "      <td>PASSAGENS AÉREAS</td>\n",
       "    </tr>\n",
       "    <tr>\n",
       "      <th>203401</th>\n",
       "      <td>2.610402e-10</td>\n",
       "      <td>5054.99</td>\n",
       "      <td>LIDERANÇA DO PT</td>\n",
       "      <td>FORNECIMENTO DE ALIMENTAÇÃO DO PARLAMENTAR</td>\n",
       "    </tr>\n",
       "    <tr>\n",
       "      <th>271806</th>\n",
       "      <td>5.512234e-10</td>\n",
       "      <td>26383.80</td>\n",
       "      <td>PADRE JOÃO</td>\n",
       "      <td>SERVIÇOS POSTAIS</td>\n",
       "    </tr>\n",
       "  </tbody>\n",
       "</table>\n",
       "</div>"
      ],
      "text/plain": [
       "          prob_total  vlrLiquido   txNomeParlamentar  \\\n",
       "334220  5.376728e-12    56223.80  SUBTENENTE GONZAGA   \n",
       "203398  4.776580e-11     6205.00     LIDERANÇA DO PT   \n",
       "261677  1.022311e-10    46988.80   NEWTON CARDOSO JR   \n",
       "203401  2.610402e-10     5054.99     LIDERANÇA DO PT   \n",
       "271806  5.512234e-10    26383.80          PADRE JOÃO   \n",
       "\n",
       "                                      txtDescricao  \n",
       "334220                            SERVIÇOS POSTAIS  \n",
       "203398  FORNECIMENTO DE ALIMENTAÇÃO DO PARLAMENTAR  \n",
       "261677                            PASSAGENS AÉREAS  \n",
       "203401  FORNECIMENTO DE ALIMENTAÇÃO DO PARLAMENTAR  \n",
       "271806                            SERVIÇOS POSTAIS  "
      ]
     },
     "execution_count": 15,
     "metadata": {},
     "output_type": "execute_result"
    }
   ],
   "source": [
    "ceap['prob_total'] = ceap.prob_geral * ceap.prob_grupo\n",
    "colunas = ['prob_total', 'vlrLiquido', 'txNomeParlamentar', 'txtDescricao']\n",
    "ceap[colunas].sort_values('prob_total').head(5)"
   ]
  },
  {
   "cell_type": "markdown",
   "metadata": {},
   "source": [
    "Note que agora valores maiores e menores se intercalam dependendo do resultado da multiplicação das probabilidades, resolvendo nossos problemas em adotar apenas uma delas.\n",
    "\n",
    "\n",
    "## O que fazer agora?\n",
    "\n",
    "A tabela final completa, com todas as linhas e colunas, encontra-se em `dados/ceap2015resultado.csv.zip`. Com ela, você poderá ver o fornecedor, passageiro da passagem aérea, etc. O [site da Câmara](http://www.camara.gov.br/cota-parlamentar/site) da Câmara também disponibiliza algumas notas fiscais dos serviços prestados. Os serviços que não possuem nota estão especificados no item 7 da página de [Assessoria de Imprensa](http://www2.camara.leg.br/comunicacao/assessoria-de-imprensa/cota-parlamentar). Você também pode baixar este *notebook*, alterar o código e investigar os dados da sua maneira. Compartilhe o que encontrar de interessante!"
   ]
  }
 ],
 "metadata": {
  "kernelspec": {
   "display_name": "Python 3",
   "language": "python",
   "name": "python3"
  },
  "language_info": {
   "codemirror_mode": {
    "name": "ipython",
    "version": 3
   },
   "file_extension": ".py",
   "mimetype": "text/x-python",
   "name": "python",
   "nbconvert_exporter": "python",
   "pygments_lexer": "ipython3",
   "version": "3.5.2"
  }
 },
 "nbformat": 4,
 "nbformat_minor": 1
}
